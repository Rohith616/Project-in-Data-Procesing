{
  "nbformat": 4,
  "nbformat_minor": 0,
  "metadata": {
    "colab": {
      "name": "Project on Numpy.ipynb",
      "provenance": [],
      "collapsed_sections": []
    },
    "kernelspec": {
      "name": "python3",
      "display_name": "Python 3"
    },
    "language_info": {
      "name": "python"
    }
  },
  "cells": [
    {
      "cell_type": "code",
      "metadata": {
        "id": "zyzqRqYkGPQz"
      },
      "source": [
        "#Load the data. Data is already given to you in variable path\n",
        "import numpy as np\n",
        "import pandas as pd\n",
        "df=pd.read_csv('/content/KAG_Conversion_Data.csv')\n",
        "df"
      ],
      "execution_count": null,
      "outputs": []
    },
    {
      "cell_type": "code",
      "metadata": {
        "id": "x_kU-iQzGw-v"
      },
      "source": [
        "#How many unique ad campaigns (xyzcampaignid) does this data contain ? And for how many times was each campaign run ?\n",
        "df.xyz_campaign_id.unique()\n",
        "df.groupby(['xyz_campaign_id']).count()\n"
      ],
      "execution_count": null,
      "outputs": []
    },
    {
      "cell_type": "code",
      "metadata": {
        "id": "gkqzC3YLG9cx"
      },
      "source": [
        "#What are the age groups that were targeted through these ad campaigns?\n",
        "a=df.age.max()\n",
        "b=df.age.min()\n",
        "print(b,a)"
      ],
      "execution_count": null,
      "outputs": []
    },
    {
      "cell_type": "code",
      "metadata": {
        "id": "RkymwFXJOo5e"
      },
      "source": [
        "#What was the average, minimum and maximum amount spent on the ads?\n",
        "c=df.Spent.mean()\n",
        "d=df.Spent.max()\n",
        "e=df.Spent.min()\n",
        "print('Avg',c,'min',e,'max',d)"
      ],
      "execution_count": null,
      "outputs": []
    },
    {
      "cell_type": "code",
      "metadata": {
        "id": "av3aNXlLQARz"
      },
      "source": [
        "#What is the id of the ad having the maximum number of clicks ?\n",
        "a=df.Clicks.max()\n",
        "b=df.ad_id[a]"
      ],
      "execution_count": 79,
      "outputs": []
    },
    {
      "cell_type": "code",
      "metadata": {
        "id": "3iHUeqyWQTEc"
      },
      "source": [
        "#How many people bought the product after seeing the ad with most clicks? Is that the maximum number of purchases in this dataset?\n",
        "a=df.Clicks.max()\n",
        "c=df.Approved_Conversion.max()\n",
        "b=df.ad_id[a]\n",
        "d=df.ad_id[c]\n",
        "print(c)\n",
        "if b==d:\n",
        " print('yes')\n",
        "else:\n",
        " print('no')"
      ],
      "execution_count": null,
      "outputs": []
    },
    {
      "cell_type": "code",
      "metadata": {
        "id": "x8iQ7LMxW_p4"
      },
      "source": [
        "#So the ad with the most clicks didn't fetch the maximum number of purchases. Find the details of the product having maximum number of purchases\n",
        "a=df.Approved_Conversion.max()\n",
        "b=df.ad_id[a]\n",
        "print('max purchases is',a ,'\\n ad id',b)"
      ],
      "execution_count": null,
      "outputs": []
    }
  ]
}