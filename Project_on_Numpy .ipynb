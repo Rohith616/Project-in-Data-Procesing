{
  "nbformat": 4,
  "nbformat_minor": 0,
  "metadata": {
    "colab": {
      "name": "Project on Numpy.ipynb",
      "provenance": [],
      "collapsed_sections": [],
      "authorship_tag": "ABX9TyNBmFGpEId85vcsWnJ2+zK5",
      "include_colab_link": true
    },
    "kernelspec": {
      "name": "python3",
      "display_name": "Python 3"
    },
    "language_info": {
      "name": "python"
    }
  },
  "cells": [
    {
      "cell_type": "markdown",
      "metadata": {
        "id": "view-in-github",
        "colab_type": "text"
      },
      "source": [
        "<a href=\"https://colab.research.google.com/github/Rohithtechis/Project-in-Data-Procesing/blob/main/Project_on_Numpy%20.ipynb\" target=\"_parent\"><img src=\"https://colab.research.google.com/assets/colab-badge.svg\" alt=\"Open In Colab\"/></a>"
      ]
    },
    {
      "cell_type": "code",
      "metadata": {
        "id": "zyzqRqYkGPQz",
        "colab": {
          "base_uri": "https://localhost:8080/",
          "height": 609
        },
        "outputId": "e19f6416-29b0-4a0d-b1db-898e0ff07f8a"
      },
      "source": [
        "#Load the data. Data is already given to you in variable path\n",
        "import numpy as np\n",
        "import pandas as pd\n",
        "df=pd.read_csv('/content/KAG_Conversion_Data.csv')\n",
        "df"
      ],
      "execution_count": 17,
      "outputs": [
        {
          "output_type": "execute_result",
          "data": {
            "text/html": [
              "<div>\n",
              "<style scoped>\n",
              "    .dataframe tbody tr th:only-of-type {\n",
              "        vertical-align: middle;\n",
              "    }\n",
              "\n",
              "    .dataframe tbody tr th {\n",
              "        vertical-align: top;\n",
              "    }\n",
              "\n",
              "    .dataframe thead th {\n",
              "        text-align: right;\n",
              "    }\n",
              "</style>\n",
              "<table border=\"1\" class=\"dataframe\">\n",
              "  <thead>\n",
              "    <tr style=\"text-align: right;\">\n",
              "      <th></th>\n",
              "      <th>ad_id</th>\n",
              "      <th>xyz_campaign_id</th>\n",
              "      <th>fb_campaign_id</th>\n",
              "      <th>age</th>\n",
              "      <th>gender</th>\n",
              "      <th>interest</th>\n",
              "      <th>Impressions</th>\n",
              "      <th>Clicks</th>\n",
              "      <th>Spent</th>\n",
              "      <th>Total_Conversion</th>\n",
              "      <th>Approved_Conversion</th>\n",
              "    </tr>\n",
              "  </thead>\n",
              "  <tbody>\n",
              "    <tr>\n",
              "      <th>0</th>\n",
              "      <td>708746</td>\n",
              "      <td>916</td>\n",
              "      <td>103916</td>\n",
              "      <td>30-34</td>\n",
              "      <td>M</td>\n",
              "      <td>15</td>\n",
              "      <td>7350</td>\n",
              "      <td>1</td>\n",
              "      <td>1.430000</td>\n",
              "      <td>2</td>\n",
              "      <td>1</td>\n",
              "    </tr>\n",
              "    <tr>\n",
              "      <th>1</th>\n",
              "      <td>708749</td>\n",
              "      <td>916</td>\n",
              "      <td>103917</td>\n",
              "      <td>30-34</td>\n",
              "      <td>M</td>\n",
              "      <td>16</td>\n",
              "      <td>17861</td>\n",
              "      <td>2</td>\n",
              "      <td>1.820000</td>\n",
              "      <td>2</td>\n",
              "      <td>0</td>\n",
              "    </tr>\n",
              "    <tr>\n",
              "      <th>2</th>\n",
              "      <td>708771</td>\n",
              "      <td>916</td>\n",
              "      <td>103920</td>\n",
              "      <td>30-34</td>\n",
              "      <td>M</td>\n",
              "      <td>20</td>\n",
              "      <td>693</td>\n",
              "      <td>0</td>\n",
              "      <td>0.000000</td>\n",
              "      <td>1</td>\n",
              "      <td>0</td>\n",
              "    </tr>\n",
              "    <tr>\n",
              "      <th>3</th>\n",
              "      <td>708815</td>\n",
              "      <td>916</td>\n",
              "      <td>103928</td>\n",
              "      <td>30-34</td>\n",
              "      <td>M</td>\n",
              "      <td>28</td>\n",
              "      <td>4259</td>\n",
              "      <td>1</td>\n",
              "      <td>1.250000</td>\n",
              "      <td>1</td>\n",
              "      <td>0</td>\n",
              "    </tr>\n",
              "    <tr>\n",
              "      <th>4</th>\n",
              "      <td>708818</td>\n",
              "      <td>916</td>\n",
              "      <td>103928</td>\n",
              "      <td>30-34</td>\n",
              "      <td>M</td>\n",
              "      <td>28</td>\n",
              "      <td>4133</td>\n",
              "      <td>1</td>\n",
              "      <td>1.290000</td>\n",
              "      <td>1</td>\n",
              "      <td>1</td>\n",
              "    </tr>\n",
              "    <tr>\n",
              "      <th>...</th>\n",
              "      <td>...</td>\n",
              "      <td>...</td>\n",
              "      <td>...</td>\n",
              "      <td>...</td>\n",
              "      <td>...</td>\n",
              "      <td>...</td>\n",
              "      <td>...</td>\n",
              "      <td>...</td>\n",
              "      <td>...</td>\n",
              "      <td>...</td>\n",
              "      <td>...</td>\n",
              "    </tr>\n",
              "    <tr>\n",
              "      <th>1138</th>\n",
              "      <td>1314410</td>\n",
              "      <td>1178</td>\n",
              "      <td>179977</td>\n",
              "      <td>45-49</td>\n",
              "      <td>F</td>\n",
              "      <td>109</td>\n",
              "      <td>1129773</td>\n",
              "      <td>252</td>\n",
              "      <td>358.189997</td>\n",
              "      <td>13</td>\n",
              "      <td>2</td>\n",
              "    </tr>\n",
              "    <tr>\n",
              "      <th>1139</th>\n",
              "      <td>1314411</td>\n",
              "      <td>1178</td>\n",
              "      <td>179978</td>\n",
              "      <td>45-49</td>\n",
              "      <td>F</td>\n",
              "      <td>110</td>\n",
              "      <td>637549</td>\n",
              "      <td>120</td>\n",
              "      <td>173.880003</td>\n",
              "      <td>3</td>\n",
              "      <td>0</td>\n",
              "    </tr>\n",
              "    <tr>\n",
              "      <th>1140</th>\n",
              "      <td>1314412</td>\n",
              "      <td>1178</td>\n",
              "      <td>179979</td>\n",
              "      <td>45-49</td>\n",
              "      <td>F</td>\n",
              "      <td>111</td>\n",
              "      <td>151531</td>\n",
              "      <td>28</td>\n",
              "      <td>40.289999</td>\n",
              "      <td>2</td>\n",
              "      <td>0</td>\n",
              "    </tr>\n",
              "    <tr>\n",
              "      <th>1141</th>\n",
              "      <td>1314414</td>\n",
              "      <td>1178</td>\n",
              "      <td>179981</td>\n",
              "      <td>45-49</td>\n",
              "      <td>F</td>\n",
              "      <td>113</td>\n",
              "      <td>790253</td>\n",
              "      <td>135</td>\n",
              "      <td>198.710000</td>\n",
              "      <td>8</td>\n",
              "      <td>2</td>\n",
              "    </tr>\n",
              "    <tr>\n",
              "      <th>1142</th>\n",
              "      <td>1314415</td>\n",
              "      <td>1178</td>\n",
              "      <td>179982</td>\n",
              "      <td>45-49</td>\n",
              "      <td>F</td>\n",
              "      <td>114</td>\n",
              "      <td>513161</td>\n",
              "      <td>114</td>\n",
              "      <td>165.609999</td>\n",
              "      <td>5</td>\n",
              "      <td>2</td>\n",
              "    </tr>\n",
              "  </tbody>\n",
              "</table>\n",
              "<p>1143 rows × 11 columns</p>\n",
              "</div>"
            ],
            "text/plain": [
              "        ad_id  xyz_campaign_id  ...  Total_Conversion Approved_Conversion\n",
              "0      708746              916  ...                 2                   1\n",
              "1      708749              916  ...                 2                   0\n",
              "2      708771              916  ...                 1                   0\n",
              "3      708815              916  ...                 1                   0\n",
              "4      708818              916  ...                 1                   1\n",
              "...       ...              ...  ...               ...                 ...\n",
              "1138  1314410             1178  ...                13                   2\n",
              "1139  1314411             1178  ...                 3                   0\n",
              "1140  1314412             1178  ...                 2                   0\n",
              "1141  1314414             1178  ...                 8                   2\n",
              "1142  1314415             1178  ...                 5                   2\n",
              "\n",
              "[1143 rows x 11 columns]"
            ]
          },
          "metadata": {},
          "execution_count": 17
        }
      ]
    },
    {
      "cell_type": "code",
      "metadata": {
        "id": "x_kU-iQzGw-v",
        "colab": {
          "base_uri": "https://localhost:8080/",
          "height": 193
        },
        "outputId": "7ee68b93-1bfd-4ff9-db2e-ee0abde66089"
      },
      "source": [
        "#How many unique ad campaigns (xyzcampaignid) does this data contain ? And for how many times was each campaign run ?\n",
        "df.xyz_campaign_id.unique()\n",
        "df.groupby(['xyz_campaign_id']).count()"
      ],
      "execution_count": 18,
      "outputs": [
        {
          "output_type": "execute_result",
          "data": {
            "text/html": [
              "<div>\n",
              "<style scoped>\n",
              "    .dataframe tbody tr th:only-of-type {\n",
              "        vertical-align: middle;\n",
              "    }\n",
              "\n",
              "    .dataframe tbody tr th {\n",
              "        vertical-align: top;\n",
              "    }\n",
              "\n",
              "    .dataframe thead th {\n",
              "        text-align: right;\n",
              "    }\n",
              "</style>\n",
              "<table border=\"1\" class=\"dataframe\">\n",
              "  <thead>\n",
              "    <tr style=\"text-align: right;\">\n",
              "      <th></th>\n",
              "      <th>ad_id</th>\n",
              "      <th>fb_campaign_id</th>\n",
              "      <th>age</th>\n",
              "      <th>gender</th>\n",
              "      <th>interest</th>\n",
              "      <th>Impressions</th>\n",
              "      <th>Clicks</th>\n",
              "      <th>Spent</th>\n",
              "      <th>Total_Conversion</th>\n",
              "      <th>Approved_Conversion</th>\n",
              "    </tr>\n",
              "    <tr>\n",
              "      <th>xyz_campaign_id</th>\n",
              "      <th></th>\n",
              "      <th></th>\n",
              "      <th></th>\n",
              "      <th></th>\n",
              "      <th></th>\n",
              "      <th></th>\n",
              "      <th></th>\n",
              "      <th></th>\n",
              "      <th></th>\n",
              "      <th></th>\n",
              "    </tr>\n",
              "  </thead>\n",
              "  <tbody>\n",
              "    <tr>\n",
              "      <th>916</th>\n",
              "      <td>54</td>\n",
              "      <td>54</td>\n",
              "      <td>54</td>\n",
              "      <td>54</td>\n",
              "      <td>54</td>\n",
              "      <td>54</td>\n",
              "      <td>54</td>\n",
              "      <td>54</td>\n",
              "      <td>54</td>\n",
              "      <td>54</td>\n",
              "    </tr>\n",
              "    <tr>\n",
              "      <th>936</th>\n",
              "      <td>464</td>\n",
              "      <td>464</td>\n",
              "      <td>464</td>\n",
              "      <td>464</td>\n",
              "      <td>464</td>\n",
              "      <td>464</td>\n",
              "      <td>464</td>\n",
              "      <td>464</td>\n",
              "      <td>464</td>\n",
              "      <td>464</td>\n",
              "    </tr>\n",
              "    <tr>\n",
              "      <th>1178</th>\n",
              "      <td>625</td>\n",
              "      <td>625</td>\n",
              "      <td>625</td>\n",
              "      <td>625</td>\n",
              "      <td>625</td>\n",
              "      <td>625</td>\n",
              "      <td>625</td>\n",
              "      <td>625</td>\n",
              "      <td>625</td>\n",
              "      <td>625</td>\n",
              "    </tr>\n",
              "  </tbody>\n",
              "</table>\n",
              "</div>"
            ],
            "text/plain": [
              "                 ad_id  fb_campaign_id  ...  Total_Conversion  Approved_Conversion\n",
              "xyz_campaign_id                         ...                                       \n",
              "916                 54              54  ...                54                   54\n",
              "936                464             464  ...               464                  464\n",
              "1178               625             625  ...               625                  625\n",
              "\n",
              "[3 rows x 10 columns]"
            ]
          },
          "metadata": {},
          "execution_count": 18
        }
      ]
    },
    {
      "cell_type": "code",
      "metadata": {
        "id": "gkqzC3YLG9cx",
        "colab": {
          "base_uri": "https://localhost:8080/"
        },
        "outputId": "2d6c5fbb-c0c4-4f12-ea92-5ceeca9520dd"
      },
      "source": [
        "#What are the age groups that were targeted through these ad campaigns?\n",
        "a=df.age.max()\n",
        "b=df.age.min()\n",
        "print('The age group trageted through this camoaigns are',b,a)"
      ],
      "execution_count": 19,
      "outputs": [
        {
          "output_type": "stream",
          "name": "stdout",
          "text": [
            "The age group trageted through this camoaigns are 30-34 45-49\n"
          ]
        }
      ]
    },
    {
      "cell_type": "code",
      "metadata": {
        "id": "RkymwFXJOo5e",
        "colab": {
          "base_uri": "https://localhost:8080/"
        },
        "outputId": "87e6230e-3750-4e65-849a-017da6256d23"
      },
      "source": [
        "#What was the average, minimum and maximum amount spent on the ads?\n",
        "c=df.Spent.mean()\n",
        "d=df.Spent.max()\n",
        "e=df.Spent.min()\n",
        "print('Avg time spent is',c)\n",
        "print('min time spent is',e)\n",
        "print('max time spent is',d)"
      ],
      "execution_count": 20,
      "outputs": [
        {
          "output_type": "stream",
          "name": "stdout",
          "text": [
            "Avg time spent is 51.36065613141293\n",
            "min time spent is 0.0\n",
            "max time spent is 639.9499981\n"
          ]
        }
      ]
    },
    {
      "cell_type": "code",
      "metadata": {
        "id": "av3aNXlLQARz",
        "colab": {
          "base_uri": "https://localhost:8080/"
        },
        "outputId": "66b65bcd-e185-4f65-ab19-ec8b33d6e035"
      },
      "source": [
        "#What is the id of the ad having the maximum number of clicks ?\n",
        "a=df.Clicks.max()\n",
        "b=df.ad_id[a]\n",
        "print('The id of add having the maximun nimber of cliks is',b)"
      ],
      "execution_count": 21,
      "outputs": [
        {
          "output_type": "stream",
          "name": "stdout",
          "text": [
            "The id of add having the maximun nimber of cliks is 782587\n"
          ]
        }
      ]
    },
    {
      "cell_type": "code",
      "metadata": {
        "id": "3iHUeqyWQTEc",
        "colab": {
          "base_uri": "https://localhost:8080/"
        },
        "outputId": "c295888c-80d6-4b47-baf7-04e397809f29"
      },
      "source": [
        "#How many people bought the product after seeing the ad with most clicks? Is that the maximum number of purchases in this dataset?\n",
        "a=df.Clicks.max()\n",
        "c=df.Approved_Conversion.max()\n",
        "b=df.ad_id[a]\n",
        "d=df.ad_id[c]\n",
        "print('Number of people bought the product after seeing the add with most clicks is', c)\n",
        "if b==d:\n",
        " print('yes it is maximun number of purchases')\n",
        "else:\n",
        " print('no it is not the maximum number of purchases')"
      ],
      "execution_count": 22,
      "outputs": [
        {
          "output_type": "stream",
          "name": "stdout",
          "text": [
            "Number of people bought the product after seeing the add with most clicks is 21\n",
            "no it is not the maximum number of purchases\n"
          ]
        }
      ]
    },
    {
      "cell_type": "code",
      "metadata": {
        "id": "x8iQ7LMxW_p4",
        "colab": {
          "base_uri": "https://localhost:8080/"
        },
        "outputId": "20df5cb2-fbab-416a-ea17-ddb3ff888083"
      },
      "source": [
        "#So the ad with the most clicks didn't fetch the maximum number of purchases. Find the details of the product having maximum number of purchases\n",
        "a=df.Approved_Conversion.max()\n",
        "print('max purchases is',a)\n",
        "print('ad id',df.ad_id[a])\n",
        "print('xyz_campaign_id',df.xyz_campaign_id[a])\n",
        "print('fb_campaign_id',df.fb_campaign_id[a])\n",
        "print('age',df.age[a])\n",
        "print('gender',df.gender[a])\n",
        "print('interest',df.interest[a])\n",
        "print('Impressions',df.Impressions[a])\n",
        "print('no of Clicks',df.Clicks[a])\n",
        "print('Spent',df.Spent[a])"
      ],
      "execution_count": 50,
      "outputs": [
        {
          "output_type": "stream",
          "name": "stdout",
          "text": [
            "max purchases is 21\n",
            "ad id 709323\n",
            "xyz_campaign_id 916\n",
            "fb_campaign_id 104012\n",
            "age 35-39\n",
            "gender M\n",
            "interest 15\n",
            "Impressions 7132\n",
            "no of Clicks 2\n",
            "Spent 2.609999895\n"
          ]
        }
      ]
    }
  ]
}